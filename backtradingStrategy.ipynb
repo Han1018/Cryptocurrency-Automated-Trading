{
  "nbformat": 4,
  "nbformat_minor": 0,
  "metadata": {
    "colab": {
      "name": "binanceAPI.ipynb",
      "provenance": [],
      "collapsed_sections": [],
      "mount_file_id": "1clP96I1q9fbY4saYRKBaS6eERNFGLz76",
      "authorship_tag": "ABX9TyOeMkhyTDvyORzTKuty6cQF",
      "include_colab_link": true
    },
    "kernelspec": {
      "display_name": "Python 3",
      "name": "python3"
    },
    "language_info": {
      "name": "python"
    }
  },
  "cells": [
    {
      "cell_type": "markdown",
      "metadata": {
        "id": "view-in-github",
        "colab_type": "text"
      },
      "source": [
        "<a href=\"https://colab.research.google.com/github/Han1018/Cryptocurrency-Automated-Trading/blob/backtrader/backtradingStrategy.ipynb\" target=\"_parent\"><img src=\"https://colab.research.google.com/assets/colab-badge.svg\" alt=\"Open In Colab\"/></a>"
      ]
    },
    {
      "cell_type": "code",
      "metadata": {
        "id": "AuAvgTgQ00Nx"
      },
      "source": [
        "# !pip install flask-ngrok\n",
        "# !pip install -U flask-cors\n"
      ],
      "execution_count": null,
      "outputs": []
    },
    {
      "cell_type": "code",
      "metadata": {
        "colab": {
          "base_uri": "https://localhost:8080/"
        },
        "id": "ezBMg9XBK6ce",
        "outputId": "a65c555b-48fa-4d1a-f78d-8d6a2679ba3c"
      },
      "source": [
        "from google.colab import drive\n",
        "drive.mount('/content/drive')\n",
        "import os\n",
        "os.chdir('/content/drive/MyDrive/CloudProJ') "
      ],
      "execution_count": null,
      "outputs": [
        {
          "output_type": "stream",
          "text": [
            "Drive already mounted at /content/drive; to attempt to forcibly remount, call drive.mount(\"/content/drive\", force_remount=True).\n"
          ],
          "name": "stdout"
        }
      ]
    },
    {
      "cell_type": "code",
      "metadata": {
        "id": "A3jWFfnXEh4b"
      },
      "source": [
        "# client.list(\"/\")"
      ],
      "execution_count": null,
      "outputs": []
    },
    {
      "cell_type": "code",
      "metadata": {
        "id": "tRco4tZaytN5"
      },
      "source": [
        "import pandas as pd\n",
        "import base64\n",
        "import time\n",
        "import matplotlib.pyplot as plt\n",
        "from flask import Flask, render_template, request\n",
        "from flask_ngrok import run_with_ngrok\n",
        "import json\n",
        "from flask_cors import CORS\n",
        "import matplotlib.image as mpimg # mpimg 用于读取图片\n",
        "app = Flask(__name__)\n",
        "run_with_ngrok(app)\n",
        "CORS(app)\n",
        "\n",
        "\n",
        "df_stock_doge = pd.read_csv('DOGEUSDT_250k.csv')\n",
        "df_stock_btc = pd.read_csv('BTCUSDT_870k.csv')\n",
        "df_stock_etc = pd.read_csv('ETHUSDT_750k.csv')\n",
        "df_stock_doge=df_stock_doge.drop(columns=['json_parse'])\n",
        "df_stock_btc=df_stock_btc.drop(columns=['json_parse'])\n",
        "df_stock_etc=df_stock_etc.drop(columns=['json_parse'])"
      ],
      "execution_count": null,
      "outputs": []
    },
    {
      "cell_type": "markdown",
      "metadata": {
        "id": "Z7quPrhu0OYO"
      },
      "source": [
        "### 移動平均線\n",
        "- min5\n",
        "- min10\n",
        "- min30\n",
        "- 1h/min60\n",
        "- 3h/min180\n"
      ]
    },
    {
      "cell_type": "code",
      "metadata": {
        "id": "6EBJMjMl0hBO"
      },
      "source": [
        "df_stock_doge['min5'] = df_stock_doge['close'].rolling(window=5).mean()\n",
        "df_stock_btc['min5'] = df_stock_btc['close'].rolling(window=5).mean()\n",
        "df_stock_etc['min5'] = df_stock_etc['close'].rolling(window=5).mean()\n",
        "\n",
        "df_stock_doge['min10'] = df_stock_doge['close'].rolling(window=10).mean()\n",
        "df_stock_btc['min10'] = df_stock_btc['close'].rolling(window=10).mean()\n",
        "df_stock_etc['min10'] = df_stock_etc['close'].rolling(window=10).mean()\n",
        "\n",
        "df_stock_doge['min30'] = df_stock_doge['close'].rolling(window=30).mean()\n",
        "df_stock_btc['min30'] = df_stock_btc['close'].rolling(window=30).mean()\n",
        "df_stock_etc['min30'] = df_stock_etc['close'].rolling(window=30).mean()\n",
        "\n",
        "df_stock_doge['1h'] = df_stock_doge['close'].rolling(window=60).mean() \n",
        "df_stock_btc['1h'] = df_stock_btc['close'].rolling(window=60).mean() \n",
        "df_stock_etc['1h'] = df_stock_etc['close'].rolling(window=60).mean() \n",
        "\n",
        "df_stock_doge['3h'] = df_stock_doge['close'].rolling(window=180).mean()\n",
        "df_stock_btc['3h'] = df_stock_btc['close'].rolling(window=180).mean()\n",
        "df_stock_etc['3h'] = df_stock_etc['close'].rolling(window=180).mean()\n"
      ],
      "execution_count": null,
      "outputs": []
    },
    {
      "cell_type": "markdown",
      "metadata": {
        "id": "6AXJdQfu3vD8"
      },
      "source": [
        "### 計算BIAS乖離率"
      ]
    },
    {
      "cell_type": "code",
      "metadata": {
        "id": "ApVGtVcX3x0C"
      },
      "source": [
        "# df_stock['BIAS5'] = (df_stock['close'] - df_stock['min5']) / df_stock['min5']\n",
        "# df_stock['BIAS10'] = (df_stock['close'] - df_stock['min10']) / df_stock['min10']\n",
        "# df_stock.head()"
      ],
      "execution_count": null,
      "outputs": []
    },
    {
      "cell_type": "markdown",
      "metadata": {
        "id": "VjUihlIJ-B-j"
      },
      "source": [
        "### 最佳買點 : \n",
        "1. 成交量比前一天大 & 收盤價比前一天高\n",
        "2. 成交量比前一天小 & 收盤價比前一天高\n",
        "3. MA5線比前一天高 & 前一天MA5線比前兩天MA5線高(連漲兩個5分線)\n",
        "4. MA5>MA10"
      ]
    },
    {
      "cell_type": "code",
      "metadata": {
        "id": "LmAkvpxS98Us"
      },
      "source": [
        "# df_stock['BestBuy1'] = ((df_stock['Volume'] > df_stock['Volume'].shift(1)) & (df_stock['Close'] > df_stock['Close'].shift(1)))\n",
        "# df_stock['BestBuy2'] = ((df_stock['Volume'] < df_stock['Volume'].shift(1)) & (df_stock['Close'] > df_stock['Close'].shift(1)))\n",
        "# df_stock['BestBuy3'] = ((df_stock['MovingAverage5'] > df_stock['MovingAverage5'].shift(1))& (df_stock['MovingAverage5'].shift(1) > df_stock['MovingAverage5'].shift(2)))\n",
        "# df_stock['BestBuy4'] = df_stock['MovingAverage5'] > df_stock['MovingAverage10']\n",
        "# df_stock['buy'] = (df_stock['min5'] > df_stock['min10'])"
      ],
      "execution_count": null,
      "outputs": []
    },
    {
      "cell_type": "markdown",
      "metadata": {
        "id": "ByTIbdEB_zeU"
      },
      "source": [
        "### 最佳賣點"
      ]
    },
    {
      "cell_type": "code",
      "metadata": {
        "id": "7oS4LZAF_12W"
      },
      "source": [
        "# stock['BestSell1'] = ((stock['Volume'] > stock['Volume'].shift(1)) \n",
        "#                      & (stock['Close'] < stock['Close'].shift(1)))\n",
        "# stock['BestSell2'] = ((stock['Volume'] < stock['Volume'].shift(1)) \n",
        "#                      & (stock['Close'] < stock['Close'].shift(1)))\n",
        "# stock['BestSell3'] = ((stock['MovingAverage5'] < stock['MovingAverage5'].shift(1))\n",
        "#                      & (stock['MovingAverage5'].shift(1) < stock['MovingAverage5'].shift(2)))\n",
        "# stock['BestSell4'] = stock['MovingAverage5'] < stock['MovingAverage10']"
      ],
      "execution_count": null,
      "outputs": []
    },
    {
      "cell_type": "markdown",
      "metadata": {
        "id": "zjZyGXJrgKT8"
      },
      "source": [
        "去除NaN"
      ]
    },
    {
      "cell_type": "code",
      "metadata": {
        "id": "EKlsPCzTyVQh"
      },
      "source": [
        "df_stock_etc=df_stock_etc.dropna()\n",
        "df_stock_btc=df_stock_btc.dropna()\n",
        "df_stock_doge=df_stock_doge.dropna()\n",
        "\n",
        "df_stock_etc.index=range(len(df_stock_etc))\n",
        "df_stock_btc.index=range(len(df_stock_btc))\n",
        "df_stock_doge.index=range(len(df_stock_doge))\n"
      ],
      "execution_count": null,
      "outputs": []
    },
    {
      "cell_type": "markdown",
      "metadata": {
        "id": "SaU7sxuWdHzw"
      },
      "source": [
        "### 校正min5/min10/上一個收盤價..位置"
      ]
    },
    {
      "cell_type": "code",
      "metadata": {
        "id": "9WQQL59XEPGr"
      },
      "source": [
        "def MoveDownMinAndPriceForStrategy(df_stock):\n",
        "  df_stock['min5']=df_stock['min5'].shift(1)\n",
        "  df_stock['min10']=df_stock['min10'].shift(1)\n",
        "  df_stock['min30']=df_stock['min30'].shift(1)\n",
        "  df_stock['1h']=df_stock['1h'].shift(1)\n",
        "  df_stock['3h']=df_stock['3h'].shift(1)\n",
        "  df_stock['last_close']=df_stock['close'].shift(1)\n",
        "  df_stock['last_open']=df_stock['open'].shift(1)\n",
        "\n",
        "  df_stock=df_stock.dropna()\n",
        "  df_stock.index=range(len(df_stock))\n",
        "\n",
        "  return df_stock\n"
      ],
      "execution_count": null,
      "outputs": []
    },
    {
      "cell_type": "code",
      "metadata": {
        "id": "MEgLjG9Qyr2q"
      },
      "source": [
        "df_stock_etc=MoveDownMinAndPriceForStrategy(df_stock_etc)\n",
        "df_stock_btc=MoveDownMinAndPriceForStrategy(df_stock_btc)\n",
        "df_stock_doge=MoveDownMinAndPriceForStrategy(df_stock_doge)"
      ],
      "execution_count": null,
      "outputs": []
    },
    {
      "cell_type": "markdown",
      "metadata": {
        "id": "ITI0-ApcsvBn"
      },
      "source": [
        "### 設定策略\n"
      ]
    },
    {
      "cell_type": "code",
      "metadata": {
        "id": "KvnZgrwLYveq"
      },
      "source": [
        "class Strategy:\n",
        "  def __init__(self,comparetype):\n",
        "    self.Comparetype=comparetype\n",
        "  def isPass(self,base1,base2):\n",
        "    if (self.Comparetype)==0:\n",
        "      return base1<base2\n",
        "    else:\n",
        "      return base1>base2"
      ],
      "execution_count": null,
      "outputs": []
    },
    {
      "cell_type": "code",
      "metadata": {
        "id": "uYItXyGL-AeA"
      },
      "source": [
        "class ExtraStrategy:\n",
        "\n",
        "  def __init__(self,comparetype):\n",
        "    self.Comparetype=comparetype\n",
        "    \n",
        "  def isPass(self,base1,base2):\n",
        "    if(self.Comparetype==-1):\n",
        "      return True\n",
        "    elif (self.Comparetype==0):\n",
        "      return base1<base2\n",
        "    else:\n",
        "      return base1>base2\n"
      ],
      "execution_count": null,
      "outputs": []
    },
    {
      "cell_type": "markdown",
      "metadata": {
        "id": "n6IkhRabAHJc"
      },
      "source": [
        "### 30天內低於10分線賣出，5分線買入 得到的賺多少錢"
      ]
    },
    {
      "cell_type": "code",
      "metadata": {
        "id": "RQCePb_Op9Jf"
      },
      "source": [
        "def stategyForMA(buyPrice,sellPrice,nowPrice,buyStrategy,sellStrategy,extraBuyPrice,extraSellPrice,ExtraBuyStrategy,ExtraSellStrategy):\n",
        "  has_cash=True #設定一開始為現金\n",
        "  earnMoney=0\n",
        "  bankPrice=[0]* len(buyPrice)\n",
        "  print('數量:',len(bankPrice),'營行初始值:',sellPrice[1],nowPrice[1])\n",
        "  times=0\n",
        "  rate=1.0\n",
        "  try:\n",
        "    for i in range(1,len(buyPrice),1):\n",
        "      if(i==1): #初始買入條件\n",
        "        earnMoney=nowPrice[i]\n",
        "        has_cash=True\n",
        "        bankPrice[i]=earnMoney\n",
        "        continue\n",
        "      if((has_cash==True) and (buyStrategy.isPass(nowPrice[i],buyPrice[i])==True) and (ExtraBuyStrategy.isPass(extraBuyPrice[i],extraSellPrice[i])==True)): #買入條件\n",
        "        if(earnMoney<nowPrice[i]):\n",
        "          rate=earnMoney/nowPrice[i]\n",
        "          earnMoney=0\n",
        "          bankPrice[i]=nowPrice[i]*rate\n",
        "        else:\n",
        "          earnMoney=round(earnMoney-ㄌ[i],3)\n",
        "          bankPrice[i]=earnMoney+nowPrice[i]\n",
        "        has_cash=False\n",
        "\n",
        "      elif((has_cash==False) and (sellStrategy.isPass(nowPrice[i],sellPrice[i])==True) and (ExtraSellStrategy.isPass(extraBuyPrice[i],extraSellPrice[i])==True)):# 賣出條件\n",
        "        earnMoney=round(earnMoney+(nowPrice[i]*rate),3)\n",
        "        bankPrice[i]=earnMoney\n",
        "        rate=1.0\n",
        "        has_cash=True\n",
        "      else:\n",
        "        bankPrice[i]=bankPrice[i-1]\n",
        "\n",
        "      times=times+1\n",
        "  except():\n",
        "    print(times)\n",
        "\n",
        "  return bankPrice"
      ],
      "execution_count": null,
      "outputs": []
    },
    {
      "cell_type": "markdown",
      "metadata": {
        "id": "_SZO5K4FfvrF"
      },
      "source": [
        "### 轉換時間"
      ]
    },
    {
      "cell_type": "code",
      "metadata": {
        "id": "AOIgwJZwfvKn"
      },
      "source": [
        "# time_stamp = (int)((df_stock['openTime'].iloc[0])/1000) # 設定timeStamp\n",
        "# struct_time = time.localtime(time_stamp) # 轉成時間元組\n",
        "# timeString = time.strftime(\"%Y-%m-%d %H:%M:%S\", struct_time) # 轉成字串\n",
        "# print(timeString)\n",
        "# # 1624020000000"
      ],
      "execution_count": null,
      "outputs": []
    },
    {
      "cell_type": "code",
      "metadata": {
        "id": "ivPcWNE3iRZa"
      },
      "source": [
        "def get_result_pic(df_stock):\n",
        "  plt.figure(figsize=(30, 6))\n",
        "  plt.ylabel('totalMoney')\n",
        "  # plt.scatter(df_stock['openTime'], df_stock['bankPrice'],c='r', marker=1, label='Profitable')\n",
        "  plt.scatter(df_stock['openTime'], df_stock['close'],c='black', marker=2, label='Stock')\n",
        "  fig = plt.figure()\n",
        "  fig.savefig('plot.png')\n",
        "  return fig"
      ],
      "execution_count": null,
      "outputs": []
    },
    {
      "cell_type": "markdown",
      "metadata": {
        "id": "2VoDGw0Zedip"
      },
      "source": [
        "### 測試Strategy\n",
        "#### 低於10分線賣出，高於5分線時買入"
      ]
    },
    {
      "cell_type": "code",
      "metadata": {
        "colab": {
          "base_uri": "https://localhost:8080/"
        },
        "id": "3tOAFTZUsi4I",
        "outputId": "9d5756d3-0286-40c4-a099-33f5f3ff6d14"
      },
      "source": [
        "\n",
        "limit=['min5','min10','min30','1h','3h']\n",
        "timeLimit={3:12900,6:259200,12:518400,0:':'}\n",
        "\n",
        "stock={'btc':df_stock_btc,'etc':df_stock_etc,'doge':df_stock_doge}\n",
        "##範例輸入\n",
        "coin='etc'   #btc/etc/doge/\n",
        "time=6    #3/6/12/0\n",
        "buyLimit=[1]   #0/1/2/3/4\n",
        "buyType=[1]    #0小於,1大於\n",
        "sellLimit=[1]\n",
        "sellType=[0]\n",
        "\n",
        "\n",
        "#request data\n",
        "# coin = rJson['coin']\n",
        "# time = rJson['time']\n",
        "# buyLimit = rJson['buyLimit']\n",
        "# buyType = rJson['buyType']\n",
        "# sellLimit = rJson['sellLimit']\n",
        "# sellType = rJson['sellType']\n",
        "\n",
        "df_stock=stock[coin]\n",
        "\n",
        "#抓出時間範圍內\n",
        "len_df_stock=len(df_stock)\n",
        "if(time==0):\n",
        "  df_stock=df_stock\n",
        "else:\n",
        "  df_stock=df_stock[len_df_stock-timeLimit[time]:]\n",
        "df_stock.index=range(len(df_stock))\n",
        "\n",
        "#設計參數\n",
        "buyStrategy = Strategy(buyType[0])\n",
        "sellStrategy = Strategy(sellType[0])\n",
        "buyPrice=df_stock[limit[buyLimit[0]]]\n",
        "sellPrice=df_stock[limit[sellLimit[0]]]\n",
        "nowPrice=(df_stock['last_close']+df_stock['last_open'])/2\n",
        "\n",
        "\n",
        "buyPrice1=df_stock[\"min5\"]\n",
        "sellPrice1=df_stock[\"min5\"]\n",
        "\n",
        "extraBuyPrice=df_stock['min5']\n",
        "extraSellPrice=df_stock['min10']\n",
        "if(len(buyLimit)==2 and buyLimit[1]==5):\n",
        "  extraBuyStrategy = ExtraStrategy(buyType[1])\n",
        "else:\n",
        "  extraBuyStrategy = ExtraStrategy(-1)\n",
        "\n",
        "if(len(sellLimit)==2 and sellLimit[1]==5):\n",
        "  extraSellStrategy = ExtraStrategy(sellType[1])\n",
        "else:\n",
        "  extraSellStrategy = ExtraStrategy(-1)\n",
        "\n",
        "df_stock['10_10']= stategyForMA(buyPrice,sellPrice,nowPrice,buyStrategy,sellStrategy,extraBuyPrice,extraSellPrice,extraBuyStrategy,extraSellStrategy)\n",
        "df_stock['5_5']= stategyForMA(buyPrice1,sellPrice1,nowPrice,buyStrategy,sellStrategy,extraBuyPrice,extraSellPrice,extraBuyStrategy,extraSellStrategy)\n",
        "the_stock=df_stock\n",
        "#按照策略計算\n",
        "\n",
        "#輸出1\n",
        "before=df_stock['10_10'][1]\n",
        "after=df_stock['5_5'].iloc[-1]\n",
        "StrategyRate=round((after/before),2)\n",
        "\n",
        "before1=df_stock['close'][1]\n",
        "after1=df_stock['close'].iloc[-1]\n",
        "NormalRate=round((after1/before1),2)\n",
        "\n",
        "diffRate=str(round((after/after1),2))+'倍額外獲利率'\n",
        "print('5_5')\n",
        "print(before,after,after1,'NormalRate:',NormalRate,'StrategyRate:',StrategyRate,'extra:',diffRate)\n",
        "\n",
        "\n",
        "#輸出1\n",
        "before=df_stock['10_10'][1]\n",
        "after=df_stock['10_10'].iloc[-1]\n",
        "StrategyRate=round((after/before),2)\n",
        "\n",
        "before1=df_stock['close'][1]\n",
        "after1=df_stock['close'].iloc[-1]\n",
        "NormalRate=round((after1/before1),2)\n",
        "\n",
        "diffRate=str(round((after/after1),2))+'倍額外獲利率'\n",
        "print('10_10')\n",
        "print(before,after,after1,'NormalRate:',NormalRate,'StrategyRate:',StrategyRate,'extra:',diffRate)\n",
        "\n",
        "\n"
      ],
      "execution_count": null,
      "outputs": [
        {
          "output_type": "stream",
          "text": [
            "259200 0 626.7370000000016 624.88\n"
          ],
          "name": "stdout"
        },
        {
          "output_type": "stream",
          "text": [
            "/usr/local/lib/python3.7/dist-packages/ipykernel_launcher.py:56: SettingWithCopyWarning: \n",
            "A value is trying to be set on a copy of a slice from a DataFrame.\n",
            "Try using .loc[row_indexer,col_indexer] = value instead\n",
            "\n",
            "See the caveats in the documentation: https://pandas.pydata.org/pandas-docs/stable/user_guide/indexing.html#returning-a-view-versus-a-copy\n"
          ],
          "name": "stderr"
        },
        {
          "output_type": "stream",
          "text": [
            "259200 0 625.5859999999433 624.88\n",
            "5_5\n",
            "624.88 60638.709 2131.87 NormalRate: 3.41 StrategyRate: 97.04 extra: 28.44倍額外獲利率\n",
            "10_10\n",
            "624.88 43198.158 2131.87 NormalRate: 3.41 StrategyRate: 69.13 extra: 20.26倍額外獲利率\n"
          ],
          "name": "stdout"
        },
        {
          "output_type": "stream",
          "text": [
            "/usr/local/lib/python3.7/dist-packages/ipykernel_launcher.py:57: SettingWithCopyWarning: \n",
            "A value is trying to be set on a copy of a slice from a DataFrame.\n",
            "Try using .loc[row_indexer,col_indexer] = value instead\n",
            "\n",
            "See the caveats in the documentation: https://pandas.pydata.org/pandas-docs/stable/user_guide/indexing.html#returning-a-view-versus-a-copy\n"
          ],
          "name": "stderr"
        }
      ]
    },
    {
      "cell_type": "code",
      "metadata": {
        "colab": {
          "base_uri": "https://localhost:8080/",
          "height": 243
        },
        "id": "nUvee_KtwqdK",
        "outputId": "01a59c43-8055-43db-8fdb-6c7366c83492"
      },
      "source": [
        "df_stock.head()"
      ],
      "execution_count": null,
      "outputs": [
        {
          "output_type": "execute_result",
          "data": {
            "text/html": [
              "<div>\n",
              "<style scoped>\n",
              "    .dataframe tbody tr th:only-of-type {\n",
              "        vertical-align: middle;\n",
              "    }\n",
              "\n",
              "    .dataframe tbody tr th {\n",
              "        vertical-align: top;\n",
              "    }\n",
              "\n",
              "    .dataframe thead th {\n",
              "        text-align: right;\n",
              "    }\n",
              "</style>\n",
              "<table border=\"1\" class=\"dataframe\">\n",
              "  <thead>\n",
              "    <tr style=\"text-align: right;\">\n",
              "      <th></th>\n",
              "      <th>Unnamed: 0</th>\n",
              "      <th>close</th>\n",
              "      <th>closeTime</th>\n",
              "      <th>high</th>\n",
              "      <th>ignore</th>\n",
              "      <th>low</th>\n",
              "      <th>numTrades</th>\n",
              "      <th>open</th>\n",
              "      <th>openTime</th>\n",
              "      <th>quoteAssetVolume</th>\n",
              "      <th>takerBuyBaseAssetVolume</th>\n",
              "      <th>takerBuyQuoteAssetVolume</th>\n",
              "      <th>volume</th>\n",
              "      <th>min5</th>\n",
              "      <th>min10</th>\n",
              "      <th>min30</th>\n",
              "      <th>1h</th>\n",
              "      <th>3h</th>\n",
              "      <th>last_close</th>\n",
              "      <th>last_open</th>\n",
              "      <th>10_10</th>\n",
              "      <th>5_5</th>\n",
              "    </tr>\n",
              "  </thead>\n",
              "  <tbody>\n",
              "    <tr>\n",
              "      <th>0</th>\n",
              "      <td>300</td>\n",
              "      <td>0.004479</td>\n",
              "      <td>1608670859999</td>\n",
              "      <td>0.004479</td>\n",
              "      <td>0</td>\n",
              "      <td>0.004450</td>\n",
              "      <td>144</td>\n",
              "      <td>0.004459</td>\n",
              "      <td>1608670800000</td>\n",
              "      <td>25694.391115</td>\n",
              "      <td>5117302</td>\n",
              "      <td>22878.186317</td>\n",
              "      <td>5748117</td>\n",
              "      <td>0.004456</td>\n",
              "      <td>0.004452</td>\n",
              "      <td>0.004451</td>\n",
              "      <td>0.004457</td>\n",
              "      <td>0.004498</td>\n",
              "      <td>0.004459</td>\n",
              "      <td>0.004460</td>\n",
              "      <td>0.000000</td>\n",
              "      <td>0.000000</td>\n",
              "    </tr>\n",
              "    <tr>\n",
              "      <th>1</th>\n",
              "      <td>301</td>\n",
              "      <td>0.004475</td>\n",
              "      <td>1608670919999</td>\n",
              "      <td>0.004482</td>\n",
              "      <td>0</td>\n",
              "      <td>0.004467</td>\n",
              "      <td>118</td>\n",
              "      <td>0.004476</td>\n",
              "      <td>1608670860000</td>\n",
              "      <td>24208.340394</td>\n",
              "      <td>2068037</td>\n",
              "      <td>9260.526346</td>\n",
              "      <td>5408810</td>\n",
              "      <td>0.004462</td>\n",
              "      <td>0.004456</td>\n",
              "      <td>0.004453</td>\n",
              "      <td>0.004456</td>\n",
              "      <td>0.004497</td>\n",
              "      <td>0.004479</td>\n",
              "      <td>0.004459</td>\n",
              "      <td>0.004469</td>\n",
              "      <td>0.004469</td>\n",
              "    </tr>\n",
              "    <tr>\n",
              "      <th>2</th>\n",
              "      <td>302</td>\n",
              "      <td>0.004482</td>\n",
              "      <td>1608670979999</td>\n",
              "      <td>0.004484</td>\n",
              "      <td>0</td>\n",
              "      <td>0.004472</td>\n",
              "      <td>60</td>\n",
              "      <td>0.004475</td>\n",
              "      <td>1608670920000</td>\n",
              "      <td>9304.278015</td>\n",
              "      <td>1723337</td>\n",
              "      <td>7723.001977</td>\n",
              "      <td>2076841</td>\n",
              "      <td>0.004467</td>\n",
              "      <td>0.004458</td>\n",
              "      <td>0.004453</td>\n",
              "      <td>0.004456</td>\n",
              "      <td>0.004496</td>\n",
              "      <td>0.004475</td>\n",
              "      <td>0.004476</td>\n",
              "      <td>0.004469</td>\n",
              "      <td>0.004469</td>\n",
              "    </tr>\n",
              "    <tr>\n",
              "      <th>3</th>\n",
              "      <td>303</td>\n",
              "      <td>0.004477</td>\n",
              "      <td>1608671039999</td>\n",
              "      <td>0.004482</td>\n",
              "      <td>0</td>\n",
              "      <td>0.004470</td>\n",
              "      <td>50</td>\n",
              "      <td>0.004481</td>\n",
              "      <td>1608670980000</td>\n",
              "      <td>9859.750155</td>\n",
              "      <td>67808</td>\n",
              "      <td>303.635960</td>\n",
              "      <td>2202952</td>\n",
              "      <td>0.004470</td>\n",
              "      <td>0.004461</td>\n",
              "      <td>0.004454</td>\n",
              "      <td>0.004456</td>\n",
              "      <td>0.004496</td>\n",
              "      <td>0.004482</td>\n",
              "      <td>0.004475</td>\n",
              "      <td>0.004469</td>\n",
              "      <td>0.004469</td>\n",
              "    </tr>\n",
              "    <tr>\n",
              "      <th>4</th>\n",
              "      <td>304</td>\n",
              "      <td>0.004480</td>\n",
              "      <td>1608671099999</td>\n",
              "      <td>0.004481</td>\n",
              "      <td>0</td>\n",
              "      <td>0.004477</td>\n",
              "      <td>16</td>\n",
              "      <td>0.004479</td>\n",
              "      <td>1608671040000</td>\n",
              "      <td>1572.945642</td>\n",
              "      <td>175957</td>\n",
              "      <td>788.230864</td>\n",
              "      <td>351121</td>\n",
              "      <td>0.004474</td>\n",
              "      <td>0.004464</td>\n",
              "      <td>0.004455</td>\n",
              "      <td>0.004456</td>\n",
              "      <td>0.004495</td>\n",
              "      <td>0.004477</td>\n",
              "      <td>0.004481</td>\n",
              "      <td>0.004469</td>\n",
              "      <td>0.004469</td>\n",
              "    </tr>\n",
              "  </tbody>\n",
              "</table>\n",
              "</div>"
            ],
            "text/plain": [
              "   Unnamed: 0     close      closeTime  ...  last_open     10_10       5_5\n",
              "0         300  0.004479  1608670859999  ...   0.004460  0.000000  0.000000\n",
              "1         301  0.004475  1608670919999  ...   0.004459  0.004469  0.004469\n",
              "2         302  0.004482  1608670979999  ...   0.004476  0.004469  0.004469\n",
              "3         303  0.004477  1608671039999  ...   0.004475  0.004469  0.004469\n",
              "4         304  0.004480  1608671099999  ...   0.004481  0.004469  0.004469\n",
              "\n",
              "[5 rows x 22 columns]"
            ]
          },
          "metadata": {
            "tags": []
          },
          "execution_count": 138
        }
      ]
    },
    {
      "cell_type": "markdown",
      "metadata": {
        "id": "7C2QblD7yYmU"
      },
      "source": [
        ""
      ]
    },
    {
      "cell_type": "code",
      "metadata": {
        "colab": {
          "base_uri": "https://localhost:8080/",
          "height": 319
        },
        "id": "F8a_u4oMtLiw",
        "outputId": "dc814f93-70bf-4610-85af-9225713602a1"
      },
      "source": [
        "#圖\n",
        "plt.figure(figsize=(30, 6))\n",
        "plt.title(\"ETC GROUTH\") # title\n",
        "plt.ylabel(\"PROFIT\") # y label\n",
        "plt.xlabel(\"TIME\") # x label\n",
        "plt.scatter(df_stock['openTime'], df_stock['5_5'],c='r', marker=1, label='5_5')\n",
        "plt.scatter(df_stock['openTime'], df_stock['10_10'],c='blue', marker=1, label='10_10')\n",
        "plt.scatter(df_stock['openTime'], df_stock['close'],c='black', marker=2, label='close')\n",
        "plt.savefig('t.png')"
      ],
      "execution_count": null,
      "outputs": [
        {
          "output_type": "display_data",
          "data": {
            "image/png": "[encoded data removed]",
            "text/plain": [
              "<Figure size 2160x432 with 1 Axes>"
            ]
          },
          "metadata": {
            "tags": [],
            "needs_background": "light"
          }
        }
      ]
    },
    {
      "cell_type": "markdown",
      "metadata": {
        "id": "UGQFZ_dfquhA"
      },
      "source": [
        "### 根據規則比較API"
      ]
    },
    {
      "cell_type": "code",
      "metadata": {
        "id": "mSQ69isEjbb2"
      },
      "source": [
        "picture=plt.figure(figsize=(30, 6))\n",
        "@app.route('/getEarn', methods=['POST'])\n",
        "def getEarn():\n",
        "  limit=['min5','min10','min30','1h','3h']\n",
        "  timeLimit={3:12900,6:259200,12:518400,0:':'}\n",
        "\n",
        "  stock={'btc':df_stock_btc,'etc':df_stock_etc,'doge':df_stock_doge}\n",
        "  rJson = request.json\n",
        "\n",
        "  #request data\n",
        "  coin = rJson['coin']\n",
        "  time = rJson['time']\n",
        "  buyLimit = rJson['buyLimit']\n",
        "  buyType = rJson['buyType']\n",
        "  sellLimit = rJson['sellLimit']\n",
        "  sellType = rJson['sellType']\n",
        "  \n",
        "  df_stock=stock[coin]\n",
        "\n",
        "  #抓出時間範圍內 \n",
        "  #設計參數\n",
        "  buyStrategy = Strategy(buyType[0])\n",
        "  sellStrategy = Strategy(sellType[0])\n",
        "  buyPrice=df_stock[limit[buyLimit[0]]]\n",
        "  sellPrice=df_stock[limit[sellLimit[0]]]\n",
        "  nowPrice=(df_stock['close']+df_stock['open'])/2\n",
        "\n",
        "\n",
        "  extraBuyPrice=df_stock['min5']\n",
        "  extraSellPrice=df_stock['min10']\n",
        "  if(len(buyLimit)==2 and buyLimit[1]==5):\n",
        "    extraBuyStrategy = ExtraStrategy(buyType[1])\n",
        "  else:\n",
        "    extraBuyStrategy = ExtraStrategy(-1)\n",
        "\n",
        "  if(len(sellLimit)==2 and sellLimit[1]==5):\n",
        "    extraSellStrategy = ExtraStrategy(sellType[1])\n",
        "  else:\n",
        "    extraSellStrategy = ExtraStrategy(-1)\n",
        "\n",
        "  df_stock['bankPrice']= stategyForMA(buyPrice,sellPrice,nowPrice,buyStrategy,sellStrategy,extraBuyPrice,extraSellPrice,extraBuyStrategy,extraSellStrategy)\n",
        "  the_stock=df_stock\n",
        "  #按照策略計算\n",
        "  \n",
        "  #輸出\n",
        "  before=df_stock['bankPrice'][1]\n",
        "  after=df_stock['bankPrice'].iloc[-1]\n",
        "  StrategyRate=round(((after-before)/before)*100+1,2)\n",
        "\n",
        "  before1=df_stock['bankPrice'][1]\n",
        "  after1=df_stock['close'].iloc[-1]\n",
        "  NormalRate=round(((after1-before1)/before1)*100+1,2)\n",
        "\n",
        "  diffRate=str(round((after/after1),2))+'倍額外獲利率'\n",
        "  \n",
        "  #圖\n",
        "  plt.figure(figsize=(30, 6))\n",
        "  plt.ylabel('totalMoney')\n",
        "  plt.scatter(the_stock['openTime'], the_stock['bankPrice'],c='r', marker=1, label='Profitable')\n",
        "  plt.scatter(the_stock['openTime'], the_stock['close'],c='black', marker=2, label='Stock')\n",
        "  plt.savefig('t.png')\n",
        "\n",
        "  # with open(\"/content/drive/MyDrive/CloudProJ/t.png\", 'rb') as img_f:\n",
        "  #   img_stream = img_f.read()\n",
        "  #   img_stream = base64.b64encode(img_stream)\n",
        "\n",
        "\n",
        "  r={  \n",
        "      'normalRate':NormalRate,\n",
        "      'StrategyRate': StrategyRate,\n",
        "      'diffRate':diffRate\n",
        "  }\n",
        "  return json.dumps(r)\n"
      ],
      "execution_count": null,
      "outputs": []
    },
    {
      "cell_type": "markdown",
      "metadata": {
        "id": "kv0ZPI2Oj6ig"
      },
      "source": [
        "### 抓取結果比較圖片API"
      ]
    },
    {
      "cell_type": "code",
      "metadata": {
        "id": "kO-rb04qj2Mx"
      },
      "source": [
        "@app.route('/pic', methods=['GET'])\n",
        "def pic():\n",
        "\n",
        "  with open(\"/content/drive/MyDrive/CloudProJ/t.png\", 'rb') as img_f:\n",
        "      img_stream = img_f.read()\n",
        "      img_stream = base64.b64encode(img_stream)\n",
        "\n",
        "  return img_stream\n",
        "app.run()"
      ],
      "execution_count": null,
      "outputs": []
    },
    {
      "cell_type": "code",
      "metadata": {
        "id": "P7b-SFSNbTYB"
      },
      "source": [
        "import time\n",
        "import threading\n",
        "\n",
        "\n",
        "def createTimer():\n",
        "    t = threading.Timer(2, repeat)\n",
        "    t.start()\n",
        "    \n",
        "\n",
        "def repeat():\n",
        "    print('Now:', time.strftime('%H:%M:%S',time.localtime()))\n",
        "    createTimer()\n",
        "    \n",
        "    \n",
        "createTimer()"
      ],
      "execution_count": null,
      "outputs": []
    }
  ]
}